{
  "cells": [
    {
      "cell_type": "markdown",
      "metadata": {
        "id": "34xbbh5rGPWy"
      },
      "source": [
        "# Neo4j\n",
        "\n",
        "explore a very basic dataset of movies in order to understand better the property graph data model and the Cypher query language.  \n",
        "\n",
        "* [Neo4j Cheat Sheet](https://quickref.me/neo4j)\n",
        "* [Cypher Reference Card](https://neo4j.com/docs/cypher-cheat-sheet/5/auradb-enterprise/)"
      ]
    },
    {
      "cell_type": "markdown",
      "metadata": {
        "id": "hf2UqujIooPI"
      },
      "source": [
        "## Create a Neo4J sandbox database instance\n",
        "\n",
        "To create an instance go to this [link](https://sandbox.neo4j.com/), log in, and click on \"New Project.\"  From here, select the Movies graph and \"Create\".\n",
        "\n",
        "TODO:  docker container with my customer service dataset or Enron emails.  But can't get docker env to work.  \n"
      ]
    },
    {
      "cell_type": "markdown",
      "metadata": {
        "id": "NDu8R8koo5uY"
      },
      "source": [
        "## Connect to the database\n",
        "\n",
        "available under \"Connection Details\" tab."
      ]
    },
    {
      "cell_type": "code",
      "execution_count": 1,
      "metadata": {
        "id": "MZAd4WCD0SE6"
      },
      "outputs": [],
      "source": [
        "bolt_url = \"bolt://18.205.185.18:7687\"\n",
        "username = \"neo4j\"\n",
        "pwd = \"insertion-gums-comparison\""
      ]
    },
    {
      "cell_type": "code",
      "execution_count": null,
      "metadata": {
        "colab": {
          "base_uri": "https://localhost:8080/"
        },
        "id": "ChPTSrHstOM7",
        "outputId": "c6a82a4a-a3b7-44b7-9ca4-9ff78c862ff5"
      },
      "outputs": [],
      "source": [
        "! pip install py2neo"
      ]
    },
    {
      "cell_type": "code",
      "execution_count": 3,
      "metadata": {
        "id": "hDqMPt7BpShC"
      },
      "outputs": [],
      "source": [
        "from py2neo import Graph\n",
        "conn = Graph(bolt_url, auth=(username, pwd))"
      ]
    },
    {
      "cell_type": "markdown",
      "metadata": {
        "id": "QRALtOqMvXfF"
      },
      "source": [
        "### Get all labels and their node count"
      ]
    },
    {
      "cell_type": "code",
      "execution_count": 4,
      "metadata": {
        "colab": {
          "base_uri": "https://localhost:8080/",
          "height": 83
        },
        "id": "IS-Nh2HApK2E",
        "outputId": "4cfb97b4-023b-4502-d74f-97eea01d0551"
      },
      "outputs": [
        {
          "data": {
            "text/html": [
              "<table><tr><th>labels(n)</th><th>count(n)</th></tr><tr><td style=\"text-align:left\">[&#039;Movie&#039;]</td><td style=\"text-align:right\">38</td></tr><tr><td style=\"text-align:left\">[&#039;Person&#039;]</td><td style=\"text-align:right\">133</td></tr></table>"
            ],
            "text/plain": [
              " labels(n)  | count(n) \n",
              "------------|----------\n",
              " ['Movie']  |       38 \n",
              " ['Person'] |      133 "
            ]
          },
          "execution_count": 4,
          "metadata": {},
          "output_type": "execute_result"
        }
      ],
      "source": [
        "query = \"\"\"MATCH (n) RETURN distinct labels(n), count(n)\"\"\"\n",
        "result = conn.query(query)\n",
        "result\n",
        "\n"
      ]
    },
    {
      "cell_type": "markdown",
      "metadata": {
        "id": "CJnLuvDNwru9"
      },
      "source": [
        "### Get outgoing relations of \"Person\" nodes"
      ]
    },
    {
      "cell_type": "code",
      "execution_count": 5,
      "metadata": {
        "colab": {
          "base_uri": "https://localhost:8080/"
        },
        "id": "9z20zSsSv49n",
        "outputId": "db1a0596-3ba8-4270-c688-4fca4a1089ab"
      },
      "outputs": [
        {
          "data": {
            "text/plain": [
              "[{'type(r)': 'ACTED_IN', 'labels(n)': ['Movie']},\n",
              " {'type(r)': 'DIRECTED', 'labels(n)': ['Movie']},\n",
              " {'type(r)': 'PRODUCED', 'labels(n)': ['Movie']},\n",
              " {'type(r)': 'WROTE', 'labels(n)': ['Movie']},\n",
              " {'type(r)': 'FOLLOWS', 'labels(n)': ['Person']},\n",
              " {'type(r)': 'REVIEWED', 'labels(n)': ['Movie']}]"
            ]
          },
          "execution_count": 5,
          "metadata": {},
          "output_type": "execute_result"
        }
      ],
      "source": [
        "outgoing_relations_query = \"\"\"MATCH (:Person)-[r]->(n) RETURN distinct type(r), labels(n)\"\"\"\n",
        "result = conn.query(outgoing_relations_query).data()\n",
        "result"
      ]
    },
    {
      "cell_type": "markdown",
      "metadata": {
        "id": "pkV0zrPcyGYC"
      },
      "source": [
        "identify the incoming relations of \"Movie\" nodes"
      ]
    },
    {
      "cell_type": "code",
      "execution_count": 6,
      "metadata": {
        "colab": {
          "base_uri": "https://localhost:8080/"
        },
        "id": "0qD6VToNx6bM",
        "outputId": "29d843e7-b6e7-4903-efa5-9f995179b4ca"
      },
      "outputs": [
        {
          "data": {
            "text/plain": [
              "[{'type(r)': 'ACTED_IN', 'labels(n)': ['Person']},\n",
              " {'type(r)': 'PRODUCED', 'labels(n)': ['Person']},\n",
              " {'type(r)': 'DIRECTED', 'labels(n)': ['Person']},\n",
              " {'type(r)': 'WROTE', 'labels(n)': ['Person']},\n",
              " {'type(r)': 'REVIEWED', 'labels(n)': ['Person']}]"
            ]
          },
          "execution_count": 6,
          "metadata": {},
          "output_type": "execute_result"
        }
      ],
      "source": [
        "\n",
        "query = \"\"\"MATCH (:Movie)<-[r]-(n) RETURN distinct type(r), labels(n)\"\"\"\n",
        "result = conn.query(query).data()\n",
        "result"
      ]
    },
    {
      "cell_type": "markdown",
      "metadata": {
        "id": "R54BJc3pygDx"
      },
      "source": [
        "### Get node properties per label"
      ]
    },
    {
      "cell_type": "code",
      "execution_count": 7,
      "metadata": {
        "colab": {
          "base_uri": "https://localhost:8080/"
        },
        "id": "RnWlQ82IyN8D",
        "outputId": "3039e510-1d9c-4f60-da96-69c860ce64b8"
      },
      "outputs": [
        {
          "data": {
            "text/plain": [
              "[{'nodeType': ':`Movie`',\n",
              "  'nodeLabels': ['Movie'],\n",
              "  'propertyName': 'title',\n",
              "  'propertyTypes': ['String'],\n",
              "  'mandatory': True},\n",
              " {'nodeType': ':`Movie`',\n",
              "  'nodeLabels': ['Movie'],\n",
              "  'propertyName': 'released',\n",
              "  'propertyTypes': ['Long'],\n",
              "  'mandatory': True},\n",
              " {'nodeType': ':`Movie`',\n",
              "  'nodeLabels': ['Movie'],\n",
              "  'propertyName': 'tagline',\n",
              "  'propertyTypes': ['String'],\n",
              "  'mandatory': False},\n",
              " {'nodeType': ':`Person`',\n",
              "  'nodeLabels': ['Person'],\n",
              "  'propertyName': 'name',\n",
              "  'propertyTypes': ['String'],\n",
              "  'mandatory': True},\n",
              " {'nodeType': ':`Person`',\n",
              "  'nodeLabels': ['Person'],\n",
              "  'propertyName': 'born',\n",
              "  'propertyTypes': ['Long'],\n",
              "  'mandatory': False}]"
            ]
          },
          "execution_count": 7,
          "metadata": {},
          "output_type": "execute_result"
        }
      ],
      "source": [
        "query = \"\"\"call db.schema.nodeTypeProperties()\"\"\"\n",
        "result = conn.query(query).data()\n",
        "result\n",
        "\n"
      ]
    },
    {
      "cell_type": "markdown",
      "metadata": {
        "id": "CKm0gQkV1QQi"
      },
      "source": [
        "## Querying the data"
      ]
    },
    {
      "cell_type": "markdown",
      "metadata": {
        "id": "xNaksY_41zhQ"
      },
      "source": [
        "### Find all the movies Tom Hanks acted in"
      ]
    },
    {
      "cell_type": "code",
      "execution_count": 8,
      "metadata": {
        "colab": {
          "base_uri": "https://localhost:8080/"
        },
        "id": "2pxIAFiE1iNZ",
        "outputId": "7c1cfd8c-f31e-4409-90af-391cd18bc295"
      },
      "outputs": [
        {
          "data": {
            "text/plain": [
              "[{'m.title': 'Apollo 13'},\n",
              " {'m.title': \"You've Got Mail\"},\n",
              " {'m.title': 'A League of Their Own'},\n",
              " {'m.title': 'Joe Versus the Volcano'},\n",
              " {'m.title': 'That Thing You Do'},\n",
              " {'m.title': 'The Da Vinci Code'},\n",
              " {'m.title': 'Cloud Atlas'},\n",
              " {'m.title': 'Cast Away'},\n",
              " {'m.title': 'The Green Mile'},\n",
              " {'m.title': 'Sleepless in Seattle'},\n",
              " {'m.title': 'The Polar Express'},\n",
              " {'m.title': \"Charlie Wilson's War\"}]"
            ]
          },
          "execution_count": 8,
          "metadata": {},
          "output_type": "execute_result"
        }
      ],
      "source": [
        "query = \"\"\"MATCH (n:Person {name:\"Tom Hanks\"})-[r:ACTED_IN]->(m:Movie)\n",
        "RETURN m.title\"\"\"\n",
        "result = conn.query(query).data()\n",
        "result"
      ]
    },
    {
      "cell_type": "markdown",
      "metadata": {
        "id": "A9IFXvIU3JVO"
      },
      "source": [
        "### Find all the movies Tom Hanks acted in AND directed"
      ]
    },
    {
      "cell_type": "code",
      "execution_count": 9,
      "metadata": {
        "colab": {
          "base_uri": "https://localhost:8080/"
        },
        "id": "bsN7Wuh73SW3",
        "outputId": "6d73f3d6-dfe2-4f21-bdc3-bce51151e71b"
      },
      "outputs": [
        {
          "data": {
            "text/plain": [
              "[{'m.title': 'That Thing You Do'}]"
            ]
          },
          "execution_count": 9,
          "metadata": {},
          "output_type": "execute_result"
        }
      ],
      "source": [
        "query = \"\"\"MATCH (n:Person {name:\"Tom Hanks\"})-[:ACTED_IN]->(m:Movie)<-[:DIRECTED]-(n)\n",
        "RETURN m.title\"\"\"\n",
        "result = conn.query(query).data()\n",
        "result"
      ]
    },
    {
      "cell_type": "markdown",
      "metadata": {
        "id": "-8aNDTmY30R2"
      },
      "source": [
        "### Find the persons who have not directed a movie"
      ]
    },
    {
      "cell_type": "code",
      "execution_count": 10,
      "metadata": {
        "colab": {
          "base_uri": "https://localhost:8080/"
        },
        "id": "X4bVee1536Lu",
        "outputId": "a0bda1d7-8ed2-4905-b0f9-9c3b3d46df50"
      },
      "outputs": [
        {
          "data": {
            "text/plain": [
              "[{'n.name': 'Keanu Reeves'},\n",
              " {'n.name': 'Carrie-Anne Moss'},\n",
              " {'n.name': 'Laurence Fishburne'},\n",
              " {'n.name': 'Hugo Weaving'},\n",
              " {'n.name': 'Joel Silver'},\n",
              " {'n.name': 'Emil Eifrem'},\n",
              " {'n.name': 'Charlize Theron'},\n",
              " {'n.name': 'Al Pacino'},\n",
              " {'n.name': 'Tom Cruise'},\n",
              " {'n.name': 'Jack Nicholson'},\n",
              " {'n.name': 'Demi Moore'},\n",
              " {'n.name': 'Kevin Bacon'},\n",
              " {'n.name': 'Kiefer Sutherland'},\n",
              " {'n.name': 'Noah Wyle'},\n",
              " {'n.name': 'Cuba Gooding Jr.'},\n",
              " {'n.name': 'Kevin Pollak'},\n",
              " {'n.name': 'J.T. Walsh'},\n",
              " {'n.name': 'Christopher Guest'},\n",
              " {'n.name': 'Aaron Sorkin'},\n",
              " {'n.name': 'Kelly McGillis'},\n",
              " {'n.name': 'Val Kilmer'},\n",
              " {'n.name': 'Anthony Edwards'},\n",
              " {'n.name': 'Tom Skerritt'},\n",
              " {'n.name': 'Meg Ryan'},\n",
              " {'n.name': 'Jim Cash'},\n",
              " {'n.name': 'Renee Zellweger'},\n",
              " {'n.name': 'Kelly Preston'},\n",
              " {'n.name': \"Jerry O'Connell\"},\n",
              " {'n.name': 'Jay Mohr'},\n",
              " {'n.name': 'Bonnie Hunt'},\n",
              " {'n.name': 'Regina King'},\n",
              " {'n.name': 'Jonathan Lipnicki'},\n",
              " {'n.name': 'River Phoenix'},\n",
              " {'n.name': 'Corey Feldman'},\n",
              " {'n.name': 'Wil Wheaton'},\n",
              " {'n.name': 'John Cusack'},\n",
              " {'n.name': 'Marshall Bell'},\n",
              " {'n.name': 'Helen Hunt'},\n",
              " {'n.name': 'Greg Kinnear'},\n",
              " {'n.name': 'Annabella Sciorra'},\n",
              " {'n.name': 'Max von Sydow'},\n",
              " {'n.name': 'Robin Williams'},\n",
              " {'n.name': 'Ethan Hawke'},\n",
              " {'n.name': 'Rick Yune'},\n",
              " {'n.name': 'James Cromwell'},\n",
              " {'n.name': 'Parker Posey'},\n",
              " {'n.name': 'Dave Chappelle'},\n",
              " {'n.name': 'Steve Zahn'},\n",
              " {'n.name': 'Rita Wilson'},\n",
              " {'n.name': 'Bill Pullman'},\n",
              " {'n.name': 'Victor Garber'},\n",
              " {'n.name': \"Rosie O'Donnell\"},\n",
              " {'n.name': 'Nathan Lane'},\n",
              " {'n.name': 'Billy Crystal'},\n",
              " {'n.name': 'Carrie Fisher'},\n",
              " {'n.name': 'Bruno Kirby'},\n",
              " {'n.name': 'Liv Tyler'},\n",
              " {'n.name': 'Brooke Langton'},\n",
              " {'n.name': 'Gene Hackman'},\n",
              " {'n.name': 'Orlando Jones'},\n",
              " {'n.name': 'Christian Bale'},\n",
              " {'n.name': 'Zach Grenier'},\n",
              " {'n.name': 'Richard Harris'},\n",
              " {'n.name': 'Takeshi Kitano'},\n",
              " {'n.name': 'Dina Meyer'},\n",
              " {'n.name': 'Ice-T'},\n",
              " {'n.name': 'Halle Berry'},\n",
              " {'n.name': 'Jim Broadbent'},\n",
              " {'n.name': 'David Mitchell'},\n",
              " {'n.name': 'Stefan Arndt'},\n",
              " {'n.name': 'Ian McKellen'},\n",
              " {'n.name': 'Audrey Tautou'},\n",
              " {'n.name': 'Paul Bettany'},\n",
              " {'n.name': 'Natalie Portman'},\n",
              " {'n.name': 'Stephen Rea'},\n",
              " {'n.name': 'John Hurt'},\n",
              " {'n.name': 'Ben Miles'},\n",
              " {'n.name': 'Emile Hirsch'},\n",
              " {'n.name': 'John Goodman'},\n",
              " {'n.name': 'Susan Sarandon'},\n",
              " {'n.name': 'Matthew Fox'},\n",
              " {'n.name': 'Christina Ricci'},\n",
              " {'n.name': 'Rain'},\n",
              " {'n.name': 'Naomie Harris'},\n",
              " {'n.name': 'Michael Clarke Duncan'},\n",
              " {'n.name': 'David Morse'},\n",
              " {'n.name': 'Sam Rockwell'},\n",
              " {'n.name': 'Gary Sinise'},\n",
              " {'n.name': 'Patricia Clarkson'},\n",
              " {'n.name': 'Frank Langella'},\n",
              " {'n.name': 'Michael Sheen'},\n",
              " {'n.name': 'Oliver Platt'},\n",
              " {'n.name': 'John C. Reilly'},\n",
              " {'n.name': 'Ed Harris'},\n",
              " {'n.name': 'Bill Paxton'},\n",
              " {'n.name': 'Philip Seymour Hoffman'},\n",
              " {'n.name': 'Diane Keaton'},\n",
              " {'n.name': 'Julia Roberts'},\n",
              " {'n.name': 'Madonna'},\n",
              " {'n.name': 'Geena Davis'},\n",
              " {'n.name': 'Lori Petty'},\n",
              " {'n.name': 'Paul Blythe'},\n",
              " {'n.name': 'Angela Scope'},\n",
              " {'n.name': 'Jessica Thompson'},\n",
              " {'n.name': 'James Thompson'}]"
            ]
          },
          "execution_count": 10,
          "metadata": {},
          "output_type": "execute_result"
        }
      ],
      "source": [
        "query = \"\"\"MATCH (n:Person) WHERE NOT (n)-[:DIRECTED]->() return n.name\"\"\"\n",
        "result = conn.query(query).data()\n",
        "result"
      ]
    },
    {
      "cell_type": "markdown",
      "metadata": {
        "id": "ye_dp7rC7hYb"
      },
      "source": [
        "movies that have been REVIEWED"
      ]
    },
    {
      "cell_type": "code",
      "execution_count": 11,
      "metadata": {
        "colab": {
          "base_uri": "https://localhost:8080/"
        },
        "id": "ctsRu_Su7qYb",
        "outputId": "5e360414-4c1a-4f01-a101-dd3f131a02f0"
      },
      "outputs": [
        {
          "data": {
            "text/plain": [
              "[{'n.title': 'Jerry Maguire'},\n",
              " {'n.title': 'The Replacements'},\n",
              " {'n.title': 'The Birdcage'},\n",
              " {'n.title': 'Unforgiven'},\n",
              " {'n.title': 'Cloud Atlas'},\n",
              " {'n.title': 'The Da Vinci Code'}]"
            ]
          },
          "execution_count": 11,
          "metadata": {},
          "output_type": "execute_result"
        }
      ],
      "source": [
        "# insert your code here\n",
        "query = \"\"\"MATCH (n:Movie) WHERE ()-[:REVIEWED]->(n) return n.title\"\"\"\n",
        "result = conn.query(query).data()\n",
        "result"
      ]
    }
  ],
  "metadata": {
    "colab": {
      "provenance": []
    },
    "kernelspec": {
      "display_name": "Python 3",
      "name": "python3"
    },
    "language_info": {
      "codemirror_mode": {
        "name": "ipython",
        "version": 3
      },
      "file_extension": ".py",
      "mimetype": "text/x-python",
      "name": "python",
      "nbconvert_exporter": "python",
      "pygments_lexer": "ipython3",
      "version": "3.11.9"
    }
  },
  "nbformat": 4,
  "nbformat_minor": 0
}
